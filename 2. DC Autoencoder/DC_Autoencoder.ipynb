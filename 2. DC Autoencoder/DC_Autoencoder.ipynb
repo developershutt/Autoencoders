{
 "cells": [
  {
   "cell_type": "code",
   "execution_count": 1,
   "metadata": {},
   "outputs": [],
   "source": [
    "from keras.datasets import mnist\n",
    "from keras.models import Model\n",
    "from keras.layers import Conv2D, MaxPool2D, UpSampling2D, Input"
   ]
  },
  {
   "cell_type": "code",
   "execution_count": 2,
   "metadata": {},
   "outputs": [],
   "source": [
    "import tensorflow as tf\n",
    "devices = tf.config.experimental.get_visible_devices('GPU')\n",
    "tf.config.experimental.set_memory_growth(device=devices[0], enable = True)"
   ]
  },
  {
   "cell_type": "code",
   "execution_count": 3,
   "metadata": {},
   "outputs": [],
   "source": [
    "(X_train, y_train),(X_test, y_test) = mnist.load_data()"
   ]
  },
  {
   "cell_type": "code",
   "execution_count": 4,
   "metadata": {},
   "outputs": [
    {
     "data": {
      "text/plain": [
       "(60000, 28, 28)"
      ]
     },
     "execution_count": 4,
     "metadata": {},
     "output_type": "execute_result"
    }
   ],
   "source": [
    "X_train.shape"
   ]
  },
  {
   "cell_type": "code",
   "execution_count": 5,
   "metadata": {},
   "outputs": [
    {
     "data": {
      "text/plain": [
       "<matplotlib.image.AxesImage at 0x7f0b5ccf8550>"
      ]
     },
     "execution_count": 5,
     "metadata": {},
     "output_type": "execute_result"
    },
    {
     "data": {
      "image/png": "[encoded data removed]",
      "text/plain": [
       "<Figure size 432x288 with 1 Axes>"
      ]
     },
     "metadata": {
      "needs_background": "light"
     },
     "output_type": "display_data"
    }
   ],
   "source": [
    "import matplotlib.pyplot as plt\n",
    "plt.imshow(X_train[0], cmap = 'gray')"
   ]
  },
  {
   "cell_type": "code",
   "execution_count": 6,
   "metadata": {},
   "outputs": [],
   "source": [
    "X_train = X_train / 255.0\n",
    "X_test = X_test / 255.0"
   ]
  },
  {
   "cell_type": "code",
   "execution_count": 7,
   "metadata": {},
   "outputs": [
    {
     "data": {
      "text/plain": [
       "(60000, 28, 28, 1)"
      ]
     },
     "execution_count": 7,
     "metadata": {},
     "output_type": "execute_result"
    }
   ],
   "source": [
    "X_train = X_train.reshape(X_train.shape[0], 28,28,1)\n",
    "X_test = X_test.reshape(X_test.shape[0], 28,28,1)\n",
    "X_train.shape"
   ]
  },
  {
   "cell_type": "markdown",
   "metadata": {},
   "source": [
    "# Model"
   ]
  },
  {
   "cell_type": "code",
   "execution_count": 8,
   "metadata": {},
   "outputs": [],
   "source": [
    "input_layer = Input(shape = (28,28,1))\n",
    "\n",
    "# encoder\n",
    "x = Conv2D(16, (3,3), activation = 'relu', padding = 'same')(input_layer)\n",
    "x = MaxPool2D(pool_size = (2,2), padding = 'same')(x)\n",
    "x = Conv2D(8, (3,3), activation = 'relu', padding = 'same')(x)\n",
    "x = MaxPool2D(pool_size = (2,2), padding = 'same')(x)\n",
    "x = Conv2D(8, (3,3), activation = 'relu', padding = 'same')(x)\n",
    "encoded = MaxPool2D(pool_size = (2,2), padding = 'same')(x)\n",
    "\n",
    "# decoder\n",
    "x = Conv2D(8, (3,3), activation = 'relu', padding = 'same')(encoded)\n",
    "x = UpSampling2D((2,2))(x)\n",
    "x = Conv2D(8, (3,3), activation = 'relu', padding = 'same')(x)\n",
    "x = UpSampling2D((2,2))(x)\n",
    "x = Conv2D(16, (3,3), activation = 'relu')(x)\n",
    "x = UpSampling2D((2,2))(x)\n",
    "decoded = Conv2D(1, (3,3), activation = 'relu', padding = 'same')(x)"
   ]
  },
  {
   "cell_type": "code",
   "execution_count": 9,
   "metadata": {},
   "outputs": [
    {
     "name": "stdout",
     "output_type": "stream",
     "text": [
      "Model: \"functional_1\"\n",
      "_________________________________________________________________\n",
      "Layer (type)                 Output Shape              Param #   \n",
      "=================================================================\n",
      "input_1 (InputLayer)         [(None, 28, 28, 1)]       0         \n",
      "_________________________________________________________________\n",
      "conv2d (Conv2D)              (None, 28, 28, 16)        160       \n",
      "_________________________________________________________________\n",
      "max_pooling2d (MaxPooling2D) (None, 14, 14, 16)        0         \n",
      "_________________________________________________________________\n",
      "conv2d_1 (Conv2D)            (None, 14, 14, 8)         1160      \n",
      "_________________________________________________________________\n",
      "max_pooling2d_1 (MaxPooling2 (None, 7, 7, 8)           0         \n",
      "_________________________________________________________________\n",
      "conv2d_2 (Conv2D)            (None, 7, 7, 8)           584       \n",
      "_________________________________________________________________\n",
      "max_pooling2d_2 (MaxPooling2 (None, 4, 4, 8)           0         \n",
      "_________________________________________________________________\n",
      "conv2d_3 (Conv2D)            (None, 4, 4, 8)           584       \n",
      "_________________________________________________________________\n",
      "up_sampling2d (UpSampling2D) (None, 8, 8, 8)           0         \n",
      "_________________________________________________________________\n",
      "conv2d_4 (Conv2D)            (None, 8, 8, 8)           584       \n",
      "_________________________________________________________________\n",
      "up_sampling2d_1 (UpSampling2 (None, 16, 16, 8)         0         \n",
      "_________________________________________________________________\n",
      "conv2d_5 (Conv2D)            (None, 14, 14, 16)        1168      \n",
      "_________________________________________________________________\n",
      "up_sampling2d_2 (UpSampling2 (None, 28, 28, 16)        0         \n",
      "_________________________________________________________________\n",
      "conv2d_6 (Conv2D)            (None, 28, 28, 1)         145       \n",
      "=================================================================\n",
      "Total params: 4,385\n",
      "Trainable params: 4,385\n",
      "Non-trainable params: 0\n",
      "_________________________________________________________________\n"
     ]
    }
   ],
   "source": [
    "autoencoder = Model(input_layer, decoded)\n",
    "autoencoder.summary()"
   ]
  },
  {
   "cell_type": "code",
   "execution_count": 10,
   "metadata": {},
   "outputs": [],
   "source": [
    "# compile\n",
    "autoencoder.compile(loss = 'binary_crossentropy', optimizer = 'adam')"
   ]
  },
  {
   "cell_type": "code",
   "execution_count": 11,
   "metadata": {},
   "outputs": [
    {
     "name": "stdout",
     "output_type": "stream",
     "text": [
      "Epoch 1/50\n",
      "469/469 [==============================] - 3s 7ms/step - loss: 0.2217 - val_loss: 0.2181\n",
      "Epoch 2/50\n",
      "469/469 [==============================] - 3s 6ms/step - loss: 0.1938 - val_loss: 0.1777\n",
      "Epoch 3/50\n",
      "469/469 [==============================] - 3s 5ms/step - loss: 0.1955 - val_loss: 0.1885\n",
      "Epoch 4/50\n",
      "469/469 [==============================] - 3s 5ms/step - loss: 0.1960 - val_loss: 0.2260\n",
      "Epoch 5/50\n",
      "469/469 [==============================] - 3s 5ms/step - loss: 0.1843 - val_loss: 0.2366\n",
      "Epoch 6/50\n",
      "469/469 [==============================] - 2s 5ms/step - loss: 0.1952 - val_loss: 0.1719\n",
      "Epoch 7/50\n",
      "469/469 [==============================] - 2s 5ms/step - loss: 0.1738 - val_loss: 0.1637\n",
      "Epoch 8/50\n",
      "469/469 [==============================] - 2s 5ms/step - loss: 0.1768 - val_loss: 0.2117\n",
      "Epoch 9/50\n",
      "469/469 [==============================] - 3s 5ms/step - loss: 0.1661 - val_loss: 0.1606\n",
      "Epoch 10/50\n",
      "469/469 [==============================] - 2s 5ms/step - loss: 0.1623 - val_loss: 0.1537\n",
      "Epoch 11/50\n",
      "469/469 [==============================] - 2s 5ms/step - loss: 0.1541 - val_loss: 0.1485\n",
      "Epoch 12/50\n",
      "469/469 [==============================] - 3s 6ms/step - loss: 0.1549 - val_loss: 0.2098\n",
      "Epoch 13/50\n",
      "469/469 [==============================] - 3s 6ms/step - loss: 0.1775 - val_loss: 0.1572\n",
      "Epoch 14/50\n",
      "469/469 [==============================] - 2s 5ms/step - loss: 0.1637 - val_loss: 0.1625\n",
      "Epoch 15/50\n",
      "469/469 [==============================] - 2s 5ms/step - loss: 0.1511 - val_loss: 0.1484\n",
      "Epoch 16/50\n",
      "469/469 [==============================] - 2s 5ms/step - loss: 0.1730 - val_loss: 0.1510\n",
      "Epoch 17/50\n",
      "469/469 [==============================] - 3s 6ms/step - loss: 0.1556 - val_loss: 0.1524\n",
      "Epoch 18/50\n",
      "469/469 [==============================] - 3s 6ms/step - loss: 0.1582 - val_loss: 0.1624\n",
      "Epoch 19/50\n",
      "469/469 [==============================] - 3s 5ms/step - loss: 0.1529 - val_loss: 0.1446\n",
      "Epoch 20/50\n",
      "469/469 [==============================] - 3s 5ms/step - loss: 0.1966 - val_loss: 0.1706\n",
      "Epoch 21/50\n",
      "469/469 [==============================] - 3s 5ms/step - loss: 0.1626 - val_loss: 0.1513\n",
      "Epoch 22/50\n",
      "469/469 [==============================] - 3s 5ms/step - loss: 0.2616 - val_loss: 0.2086\n",
      "Epoch 23/50\n",
      "469/469 [==============================] - 3s 5ms/step - loss: 0.2210 - val_loss: 0.1906\n",
      "Epoch 24/50\n",
      "469/469 [==============================] - 3s 5ms/step - loss: 0.1841 - val_loss: 0.1710\n",
      "Epoch 25/50\n",
      "469/469 [==============================] - 3s 5ms/step - loss: 0.1669 - val_loss: 0.1637\n",
      "Epoch 26/50\n",
      "469/469 [==============================] - 3s 5ms/step - loss: 0.1728 - val_loss: 0.1654\n",
      "Epoch 27/50\n",
      "469/469 [==============================] - 3s 5ms/step - loss: 0.1661 - val_loss: 0.1595\n",
      "Epoch 28/50\n",
      "469/469 [==============================] - 3s 5ms/step - loss: 0.1585 - val_loss: 0.1544\n",
      "Epoch 29/50\n",
      "469/469 [==============================] - 3s 5ms/step - loss: 0.1542 - val_loss: 0.1589\n",
      "Epoch 30/50\n",
      "469/469 [==============================] - 3s 5ms/step - loss: 0.1562 - val_loss: 0.3121\n",
      "Epoch 31/50\n",
      "469/469 [==============================] - 3s 5ms/step - loss: 0.1558 - val_loss: 0.1499\n",
      "Epoch 32/50\n",
      "469/469 [==============================] - 4s 8ms/step - loss: 0.1516 - val_loss: 0.1448\n",
      "Epoch 33/50\n",
      "469/469 [==============================] - 3s 5ms/step - loss: 0.1578 - val_loss: 0.1437\n",
      "Epoch 34/50\n",
      "469/469 [==============================] - 3s 5ms/step - loss: 0.1517 - val_loss: 0.1456\n",
      "Epoch 35/50\n",
      "469/469 [==============================] - 3s 5ms/step - loss: 0.1410 - val_loss: 0.1403\n",
      "Epoch 36/50\n",
      "469/469 [==============================] - 3s 5ms/step - loss: 0.1606 - val_loss: 0.1470\n",
      "Epoch 37/50\n",
      "469/469 [==============================] - 3s 5ms/step - loss: 0.1496 - val_loss: 0.1515\n",
      "Epoch 38/50\n",
      "469/469 [==============================] - 3s 5ms/step - loss: 0.1401 - val_loss: 0.1350\n",
      "Epoch 39/50\n",
      "469/469 [==============================] - 3s 5ms/step - loss: 0.1497 - val_loss: 0.1856\n",
      "Epoch 40/50\n",
      "469/469 [==============================] - 3s 5ms/step - loss: 0.1509 - val_loss: 0.1371\n",
      "Epoch 41/50\n",
      "469/469 [==============================] - 3s 5ms/step - loss: 0.1744 - val_loss: 0.1585\n",
      "Epoch 42/50\n",
      "469/469 [==============================] - 3s 5ms/step - loss: 0.1871 - val_loss: 0.1626\n",
      "Epoch 43/50\n",
      "469/469 [==============================] - 3s 5ms/step - loss: 0.1535 - val_loss: 0.1414\n",
      "Epoch 44/50\n",
      "469/469 [==============================] - 1s 2ms/step - loss: 0.1423 - val_loss: 0.1362\n",
      "Epoch 45/50\n",
      "469/469 [==============================] - 3s 5ms/step - loss: 0.1428 - val_loss: 0.1353\n",
      "Epoch 46/50\n",
      "469/469 [==============================] - 3s 6ms/step - loss: 0.1340 - val_loss: 0.1328\n",
      "Epoch 47/50\n",
      "469/469 [==============================] - 3s 5ms/step - loss: 0.1424 - val_loss: 0.1334\n",
      "Epoch 48/50\n",
      "469/469 [==============================] - 3s 6ms/step - loss: 0.1416 - val_loss: 0.1355\n",
      "Epoch 49/50\n",
      "469/469 [==============================] - 3s 5ms/step - loss: 0.1443 - val_loss: 0.1393\n",
      "Epoch 50/50\n",
      "469/469 [==============================] - 3s 5ms/step - loss: 0.1388 - val_loss: 0.1372\n"
     ]
    }
   ],
   "source": [
    "history = autoencoder.fit(X_train, X_train, epochs=50, batch_size = 128, validation_data=(X_test,X_test))"
   ]
  },
  {
   "cell_type": "code",
   "execution_count": 12,
   "metadata": {},
   "outputs": [
    {
     "name": "stdout",
     "output_type": "stream",
     "text": [
      "Model: \"functional_1\"\n",
      "_________________________________________________________________\n",
      "Layer (type)                 Output Shape              Param #   \n",
      "=================================================================\n",
      "input_1 (InputLayer)         [(None, 28, 28, 1)]       0         \n",
      "_________________________________________________________________\n",
      "conv2d (Conv2D)              (None, 28, 28, 16)        160       \n",
      "_________________________________________________________________\n",
      "max_pooling2d (MaxPooling2D) (None, 14, 14, 16)        0         \n",
      "_________________________________________________________________\n",
      "conv2d_1 (Conv2D)            (None, 14, 14, 8)         1160      \n",
      "_________________________________________________________________\n",
      "max_pooling2d_1 (MaxPooling2 (None, 7, 7, 8)           0         \n",
      "_________________________________________________________________\n",
      "conv2d_2 (Conv2D)            (None, 7, 7, 8)           584       \n",
      "_________________________________________________________________\n",
      "max_pooling2d_2 (MaxPooling2 (None, 4, 4, 8)           0         \n",
      "_________________________________________________________________\n",
      "conv2d_3 (Conv2D)            (None, 4, 4, 8)           584       \n",
      "_________________________________________________________________\n",
      "up_sampling2d (UpSampling2D) (None, 8, 8, 8)           0         \n",
      "_________________________________________________________________\n",
      "conv2d_4 (Conv2D)            (None, 8, 8, 8)           584       \n",
      "_________________________________________________________________\n",
      "up_sampling2d_1 (UpSampling2 (None, 16, 16, 8)         0         \n",
      "_________________________________________________________________\n",
      "conv2d_5 (Conv2D)            (None, 14, 14, 16)        1168      \n",
      "_________________________________________________________________\n",
      "up_sampling2d_2 (UpSampling2 (None, 28, 28, 16)        0         \n",
      "_________________________________________________________________\n",
      "conv2d_6 (Conv2D)            (None, 28, 28, 1)         145       \n",
      "=================================================================\n",
      "Total params: 4,385\n",
      "Trainable params: 4,385\n",
      "Non-trainable params: 0\n",
      "_________________________________________________________________\n"
     ]
    }
   ],
   "source": [
    "autoencoder.summary()"
   ]
  },
  {
   "cell_type": "code",
   "execution_count": 13,
   "metadata": {},
   "outputs": [
    {
     "name": "stdout",
     "output_type": "stream",
     "text": [
      "Model: \"functional_3\"\n",
      "_________________________________________________________________\n",
      "Layer (type)                 Output Shape              Param #   \n",
      "=================================================================\n",
      "input_1 (InputLayer)         [(None, 28, 28, 1)]       0         \n",
      "_________________________________________________________________\n",
      "conv2d (Conv2D)              (None, 28, 28, 16)        160       \n",
      "_________________________________________________________________\n",
      "max_pooling2d (MaxPooling2D) (None, 14, 14, 16)        0         \n",
      "_________________________________________________________________\n",
      "conv2d_1 (Conv2D)            (None, 14, 14, 8)         1160      \n",
      "_________________________________________________________________\n",
      "max_pooling2d_1 (MaxPooling2 (None, 7, 7, 8)           0         \n",
      "_________________________________________________________________\n",
      "conv2d_2 (Conv2D)            (None, 7, 7, 8)           584       \n",
      "_________________________________________________________________\n",
      "max_pooling2d_2 (MaxPooling2 (None, 4, 4, 8)           0         \n",
      "=================================================================\n",
      "Total params: 1,904\n",
      "Trainable params: 1,904\n",
      "Non-trainable params: 0\n",
      "_________________________________________________________________\n"
     ]
    }
   ],
   "source": [
    "encoder = Model(input_layer, encoded)\n",
    "encoder.summary()"
   ]
  },
  {
   "cell_type": "code",
   "execution_count": 17,
   "metadata": {},
   "outputs": [
    {
     "name": "stdout",
     "output_type": "stream",
     "text": [
      "Model: \"Decoder\"\n",
      "_________________________________________________________________\n",
      "Layer (type)                 Output Shape              Param #   \n",
      "=================================================================\n",
      "input_5 (InputLayer)         [(None, 4, 4, 8)]         0         \n",
      "_________________________________________________________________\n",
      "conv2d_3 (Conv2D)            (None, 4, 4, 8)           584       \n",
      "_________________________________________________________________\n",
      "up_sampling2d (UpSampling2D) (None, 8, 8, 8)           0         \n",
      "_________________________________________________________________\n",
      "conv2d_4 (Conv2D)            (None, 8, 8, 8)           584       \n",
      "_________________________________________________________________\n",
      "up_sampling2d_1 (UpSampling2 (None, 16, 16, 8)         0         \n",
      "_________________________________________________________________\n",
      "conv2d_5 (Conv2D)            (None, 14, 14, 16)        1168      \n",
      "_________________________________________________________________\n",
      "up_sampling2d_2 (UpSampling2 (None, 28, 28, 16)        0         \n",
      "_________________________________________________________________\n",
      "conv2d_6 (Conv2D)            (None, 28, 28, 1)         145       \n",
      "=================================================================\n",
      "Total params: 2,481\n",
      "Trainable params: 2,481\n",
      "Non-trainable params: 0\n",
      "_________________________________________________________________\n"
     ]
    }
   ],
   "source": [
    "decoder_layer = Input(shape = (4,4,8))\n",
    "\n",
    "decoder = autoencoder.layers[7](decoder_layer)\n",
    "\n",
    "for layer in autoencoder.layers[8:]:\n",
    "    decoder = layer(decoder)\n",
    "\n",
    "decoder = Model(decoder_layer, decoder, name = 'Decoder')\n",
    "decoder.summary()"
   ]
  },
  {
   "cell_type": "code",
   "execution_count": 19,
   "metadata": {},
   "outputs": [
    {
     "name": "stdout",
     "output_type": "stream",
     "text": [
      "313/313 [==============================] - 0s 1ms/step\n"
     ]
    },
    {
     "data": {
      "text/plain": [
       "(10000, 4, 4, 8)"
      ]
     },
     "execution_count": 19,
     "metadata": {},
     "output_type": "execute_result"
    }
   ],
   "source": [
    "# encoder images for testing\n",
    "encoded_images = encoder.predict(X_test, verbose = 1)\n",
    "encoded_images.shape"
   ]
  },
  {
   "cell_type": "code",
   "execution_count": 20,
   "metadata": {},
   "outputs": [
    {
     "name": "stdout",
     "output_type": "stream",
     "text": [
      "313/313 [==============================] - 0s 2ms/step\n"
     ]
    },
    {
     "data": {
      "text/plain": [
       "(10000, 28, 28, 1)"
      ]
     },
     "execution_count": 20,
     "metadata": {},
     "output_type": "execute_result"
    }
   ],
   "source": [
    "decoded_images = decoder.predict(encoded_images, verbose=1)\n",
    "decoded_images.shape"
   ]
  },
  {
   "cell_type": "code",
   "execution_count": 21,
   "metadata": {},
   "outputs": [
    {
     "data": {
      "text/plain": [
       "(10000, 28, 28)"
      ]
     },
     "execution_count": 21,
     "metadata": {},
     "output_type": "execute_result"
    }
   ],
   "source": [
    "decoded_images = decoded_images.reshape(decoded_images.shape[0], 28,28)\n",
    "decoded_images.shape"
   ]
  },
  {
   "cell_type": "code",
   "execution_count": 25,
   "metadata": {},
   "outputs": [
    {
     "data": {
      "text/plain": [
       "<matplotlib.image.AxesImage at 0x7f0b7feb1898>"
      ]
     },
     "execution_count": 25,
     "metadata": {},
     "output_type": "execute_result"
    },
    {
     "data": {
      "image/png": "[encoded data removed]",
      "text/plain": [
       "<Figure size 432x288 with 1 Axes>"
      ]
     },
     "metadata": {
      "needs_background": "light"
     },
     "output_type": "display_data"
    }
   ],
   "source": [
    "plt.imshow(decoded_images[1], cmap = 'gray')"
   ]
  },
  {
   "cell_type": "code",
   "execution_count": 24,
   "metadata": {},
   "outputs": [
    {
     "data": {
      "text/plain": [
       "<matplotlib.image.AxesImage at 0x7f0b803738d0>"
      ]
     },
     "execution_count": 24,
     "metadata": {},
     "output_type": "execute_result"
    },
    {
     "data": {
      "image/png": "[encoded data removed]",
      "text/plain": [
       "<Figure size 432x288 with 1 Axes>"
      ]
     },
     "metadata": {
      "needs_background": "light"
     },
     "output_type": "display_data"
    }
   ],
   "source": [
    "X_test = X_test.reshape(X_test.shape[0], 28,28)\n",
    "plt.imshow(X_test[1], cmap = 'gray')"
   ]
  },
  {
   "cell_type": "code",
   "execution_count": null,
   "metadata": {},
   "outputs": [],
   "source": []
  }
 ],
 "metadata": {
  "kernelspec": {
   "display_name": "Python 3",
   "language": "python",
   "name": "python3"
  },
  "language_info": {
   "codemirror_mode": {
    "name": "ipython",
    "version": 3
   },
   "file_extension": ".py",
   "mimetype": "text/x-python",
   "name": "python",
   "nbconvert_exporter": "python",
   "pygments_lexer": "ipython3",
   "version": "3.6.9"
  }
 },
 "nbformat": 4,
 "nbformat_minor": 4
}
